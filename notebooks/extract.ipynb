{
 "cells": [
  {
   "cell_type": "code",
   "execution_count": 1,
   "metadata": {},
   "outputs": [],
   "source": [
    "import pandas as pd\n",
    "import os\n",
    "from pathlib import Path"
   ]
  },
  {
   "cell_type": "code",
   "execution_count": 2,
   "metadata": {},
   "outputs": [],
   "source": [
    "def read_csvfile(file_path):\n",
    "    try:\n",
    "        df=pd.read_csv(file_path)\n",
    "        print(f\"Sucessfully read {file_path} with {len(df)} rows and {len(df.columns)} columns \")\n",
    "        return df\n",
    "    except Exception as e:\n",
    "        print(f\"Error reading file {file_path} : {e}\")\n",
    "        return None"
   ]
  },
  {
   "cell_type": "code",
   "execution_count": 3,
   "metadata": {},
   "outputs": [],
   "source": [
    "def extract_all_files(data_dir):\n",
    "    data_dir=Path(data_dir)\n",
    "    dataframe= {}\n",
    "    file_to_table_map = {\n",
    "        'olist_customers_dataset.csv': 'customers',\n",
    "        'olist_order_items_dataset.csv': 'order_items',\n",
    "        'olist_order_payments_dataset.csv': 'order_payments',\n",
    "        'olist_order_reviews_dataset.csv': 'order_reviews',\n",
    "        'olist_orders_dataset.csv': 'orders',\n",
    "        'olist_products_dataset.csv': 'products',\n",
    "        'olist_sellers_dataset.csv': 'sellers',\n",
    "        'product_category_name_translation.csv': 'product_category_translation',\n",
    "        'olist_geolocation_dataset.csv': 'geolocation'\n",
    "    }\n",
    "    \n",
    "    for file_name,table_name in file_to_table_map.items():\n",
    "        file_path=data_dir/file_name\n",
    "        if file_path.exists():\n",
    "            df=read_csvfile(file_path)\n",
    "            if df is not None:\n",
    "                dataframe[table_name]=df\n",
    "        else:\n",
    "            print(f\"File {file_path} not found\")\n",
    "    return dataframe\n"
   ]
  },
  {
   "cell_type": "code",
   "execution_count": 4,
   "metadata": {},
   "outputs": [
    {
     "name": "stdout",
     "output_type": "stream",
     "text": [
      "Sucessfully read D:\\data eng project\\archive (1)\\olist_customers_dataset.csv with 99441 rows and 5 columns \n",
      "Sucessfully read D:\\data eng project\\archive (1)\\olist_order_items_dataset.csv with 112650 rows and 7 columns \n",
      "Sucessfully read D:\\data eng project\\archive (1)\\olist_order_payments_dataset.csv with 103886 rows and 5 columns \n",
      "Sucessfully read D:\\data eng project\\archive (1)\\olist_order_reviews_dataset.csv with 99224 rows and 7 columns \n",
      "Sucessfully read D:\\data eng project\\archive (1)\\olist_orders_dataset.csv with 99441 rows and 8 columns \n",
      "Sucessfully read D:\\data eng project\\archive (1)\\olist_products_dataset.csv with 32951 rows and 9 columns \n",
      "Sucessfully read D:\\data eng project\\archive (1)\\olist_sellers_dataset.csv with 3095 rows and 4 columns \n",
      "Sucessfully read D:\\data eng project\\archive (1)\\product_category_name_translation.csv with 71 rows and 2 columns \n",
      "Sucessfully read D:\\data eng project\\archive (1)\\olist_geolocation_dataset.csv with 1000163 rows and 5 columns \n"
     ]
    }
   ],
   "source": [
    "data_directory = \"D:/data eng project/archive (1)\"\n",
    "dataframe=extract_all_files(data_directory)"
   ]
  },
  {
   "cell_type": "code",
   "execution_count": 6,
   "metadata": {},
   "outputs": [
    {
     "data": {
      "text/plain": [
       "['customers',\n",
       " 'order_items',\n",
       " 'order_payments',\n",
       " 'order_reviews',\n",
       " 'orders',\n",
       " 'products',\n",
       " 'sellers',\n",
       " 'product_category_translation',\n",
       " 'geolocation']"
      ]
     },
     "execution_count": 6,
     "metadata": {},
     "output_type": "execute_result"
    }
   ],
   "source": [
    "list(dataframe.keys())"
   ]
  },
  {
   "cell_type": "code",
   "execution_count": 7,
   "metadata": {},
   "outputs": [
    {
     "data": {
      "application/vnd.microsoft.datawrangler.viewer.v0+json": {
       "columns": [
        {
         "name": "index",
         "rawType": "int64",
         "type": "integer"
        },
        {
         "name": "customer_id",
         "rawType": "object",
         "type": "string"
        },
        {
         "name": "customer_unique_id",
         "rawType": "object",
         "type": "string"
        },
        {
         "name": "customer_zip_code_prefix",
         "rawType": "int64",
         "type": "integer"
        },
        {
         "name": "customer_city",
         "rawType": "object",
         "type": "string"
        },
        {
         "name": "customer_state",
         "rawType": "object",
         "type": "string"
        }
       ],
       "conversionMethod": "pd.DataFrame",
       "ref": "8510f496-6bbf-4867-a75d-fdc34d7640b2",
       "rows": [
        [
         "0",
         "06b8999e2fba1a1fbc88172c00ba8bc7",
         "861eff4711a542e4b93843c6dd7febb0",
         "14409",
         "franca",
         "SP"
        ],
        [
         "1",
         "18955e83d337fd6b2def6b18a428ac77",
         "290c77bc529b7ac935b93aa66c333dc3",
         "9790",
         "sao bernardo do campo",
         "SP"
        ],
        [
         "2",
         "4e7b3e00288586ebd08712fdd0374a03",
         "060e732b5b29e8181a18229c7b0b2b5e",
         "1151",
         "sao paulo",
         "SP"
        ],
        [
         "3",
         "b2b6027bc5c5109e529d4dc6358b12c3",
         "259dac757896d24d7702b9acbbff3f3c",
         "8775",
         "mogi das cruzes",
         "SP"
        ],
        [
         "4",
         "4f2d8ab171c80ec8364f7c12e35b23ad",
         "345ecd01c38d18a9036ed96c73b8d066",
         "13056",
         "campinas",
         "SP"
        ],
        [
         "5",
         "879864dab9bc3047522c92c82e1212b8",
         "4c93744516667ad3b8f1fb645a3116a4",
         "89254",
         "jaragua do sul",
         "SC"
        ],
        [
         "6",
         "fd826e7cf63160e536e0908c76c3f441",
         "addec96d2e059c80c30fe6871d30d177",
         "4534",
         "sao paulo",
         "SP"
        ],
        [
         "7",
         "5e274e7a0c3809e14aba7ad5aae0d407",
         "57b2a98a409812fe9618067b6b8ebe4f",
         "35182",
         "timoteo",
         "MG"
        ],
        [
         "8",
         "5adf08e34b2e993982a47070956c5c65",
         "1175e95fb47ddff9de6b2b06188f7e0d",
         "81560",
         "curitiba",
         "PR"
        ],
        [
         "9",
         "4b7139f34592b3a31687243a302fa75b",
         "9afe194fb833f79e300e37e580171f22",
         "30575",
         "belo horizonte",
         "MG"
        ],
        [
         "10",
         "9fb35e4ed6f0a14a4977cd9aea4042bb",
         "2a7745e1ed516b289ed9b29c7d0539a5",
         "39400",
         "montes claros",
         "MG"
        ],
        [
         "11",
         "5aa9e4fdd4dfd20959cad2d772509598",
         "2a46fb94aef5cbeeb850418118cee090",
         "20231",
         "rio de janeiro",
         "RJ"
        ],
        [
         "12",
         "b2d1536598b73a9abd18e0d75d92f0a3",
         "918dc87cd72cd9f6ed4bd442ed785235",
         "18682",
         "lencois paulista",
         "SP"
        ],
        [
         "13",
         "eabebad39a88bb6f5b52376faec28612",
         "295c05e81917928d76245e842748184d",
         "5704",
         "sao paulo",
         "SP"
        ],
        [
         "14",
         "1f1c7bf1c9b041b292af6c1c4470b753",
         "3151a81801c8386361b62277d7fa5ecf",
         "95110",
         "caxias do sul",
         "RS"
        ],
        [
         "15",
         "206f3129c0e4d7d0b9550426023f0a08",
         "21f748a16f4e1688a9014eb3ee6fa325",
         "13412",
         "piracicaba",
         "SP"
        ],
        [
         "16",
         "a7c125a0a07b75146167b7f04a7f8e98",
         "5c2991dbd08bbf3cf410713c4de5a0b5",
         "22750",
         "rio de janeiro",
         "RJ"
        ],
        [
         "17",
         "c5c61596a3b6bd0cee5766992c48a9a1",
         "b6e99561fe6f34a55b0b7da92f8ed775",
         "7124",
         "guarulhos",
         "SP"
        ],
        [
         "18",
         "9b8ce803689b3562defaad4613ef426f",
         "7f3a72e8f988c6e735ba118d54f47458",
         "5416",
         "sao paulo",
         "SP"
        ],
        [
         "19",
         "49d0ea0986edde72da777f15456a0ee0",
         "3e6fd6b2f0d499456a6a6820a40f2d79",
         "68485",
         "pacaja",
         "PA"
        ],
        [
         "20",
         "154c4ded6991bdfa3cd249d11abf4130",
         "e607ede0e63436308660236f5a52da5e",
         "88034",
         "florianopolis",
         "SC"
        ],
        [
         "21",
         "690172ab319622688d3b4df42f676898",
         "a96d5cfa0d3181817e2b946f921ea021",
         "74914",
         "aparecida de goiania",
         "GO"
        ],
        [
         "22",
         "2938121a40a20953c43caa8c98787fcb",
         "482441ea6a06b1f72fe9784756c0ea75",
         "5713",
         "sao paulo",
         "SP"
        ],
        [
         "23",
         "237098a64674ae89babdc426746260fc",
         "4390ddbb6276a66ff1736a6710205dca",
         "82820",
         "curitiba",
         "PR"
        ],
        [
         "24",
         "cb721d7b4f271fd87011c4c83462c076",
         "a5844ba4bfc8d0cc61d13027c7e63bcc",
         "8225",
         "sao paulo",
         "SP"
        ],
        [
         "25",
         "f681356046d9fde60e70c73a18d65ea2",
         "5f102dd37243f152aec3607970aad100",
         "9121",
         "santo andre",
         "SP"
        ],
        [
         "26",
         "167bd30a409e3e4127df5a9408ebd394",
         "9c0096673baf55453a50073f12d1a37f",
         "74310",
         "goiania",
         "GO"
        ],
        [
         "27",
         "6e359a57a91f84095cc64e1b351aef8c",
         "2e6a42a9b5cbb0da62988694f18ee295",
         "4571",
         "sao paulo",
         "SP"
        ],
        [
         "28",
         "e0eea8f69a457b3f1fa246e44c9ebefd",
         "4d221875624017bc47b4d1ce7314a5b7",
         "29311",
         "cachoeiro de itapemirim",
         "ES"
        ],
        [
         "29",
         "e3109970a3fe8021d5ff82c577ce5606",
         "a8654e2af5da6bb72f52c22b164855e1",
         "5528",
         "sao paulo",
         "SP"
        ],
        [
         "30",
         "261cb4f92498ca05d5bd1a327a261d9c",
         "424aca6872c5bab80780a8dec03b7516",
         "12235",
         "sao jose dos campos",
         "SP"
        ],
        [
         "31",
         "6f92779347724b67e44e3224f3b4cffd",
         "bf4862777db128507e9efcc789215e9b",
         "18130",
         "sao roque",
         "SP"
        ],
        [
         "32",
         "2d5831cb2dff7cdefba62e950ae3dc7b",
         "e9dd12dca17352644a959d9dea133935",
         "42800",
         "camacari",
         "BA"
        ],
        [
         "33",
         "b2bed119388167a954382cca36c4777f",
         "e079b18794454de9d2be5c12b4392294",
         "27525",
         "resende",
         "RJ"
        ],
        [
         "34",
         "469634941c27cd844170935a3cf60b95",
         "ef07ba9aa5226f77264ffa5762b2280b",
         "81750",
         "curitiba",
         "PR"
        ],
        [
         "35",
         "df0aa5b8586495e0ddf6b601122e43a1",
         "85d234692f7bee8d6fea586e237334b6",
         "13175",
         "sumare",
         "SP"
        ],
        [
         "36",
         "41c8f4b570869791379a925899a6af8a",
         "fe3634ccefbcdb0537b45fd589e32e8e",
         "7170",
         "guarulhos",
         "SP"
        ],
        [
         "37",
         "54f755c3fd2709231f9964a1430c5218",
         "40febde16f4718a5def537786473b0be",
         "93415",
         "novo hamburgo",
         "RS"
        ],
        [
         "38",
         "4c06b42fbf7b97ab10779cda5549cd1c",
         "07d190f123147d9e89d4b922543d7948",
         "65075",
         "sao luis",
         "MA"
        ],
        [
         "39",
         "b6368ca0f56d4632f44d58ca431487b2",
         "dd992305cba295d997f263dbdf4e8c2e",
         "88104",
         "sao jose",
         "SC"
        ],
        [
         "40",
         "4a0e66fd30684aa1409cd1b66fec77cc",
         "86085586aaa8c5f47ed0b400da64c59d",
         "7176",
         "guarulhos",
         "SP"
        ],
        [
         "41",
         "c168abb9077b7821adae01dc1f0886c5",
         "5ad58a4e6a1a656b6bed070cadbaa003",
         "35960",
         "santa barbara",
         "MG"
        ],
        [
         "42",
         "a3b0fda37bae14cf754877bed475e80c",
         "c9158d089637ab443c78984d20da7fc0",
         "5727",
         "sao paulo",
         "SP"
        ],
        [
         "43",
         "0ccd415657ae8a6cd1c71b00155a019e",
         "66cc90195ca44cc7ac6a1cd0e1e1e7b2",
         "7053",
         "guarulhos",
         "SP"
        ],
        [
         "44",
         "c532a74a3ebf1bacce2e2bcce3783317",
         "91ec50a00ae74d0a229d2efdf4344e1e",
         "14026",
         "ribeirao preto",
         "SP"
        ],
        [
         "45",
         "19cecb194f54e614b70d971306a9931b",
         "d251c190ca75786e9ab937982d60d1d4",
         "30320",
         "belo horizonte",
         "MG"
        ],
        [
         "46",
         "f34a6e874087ec1f0e3dab9fdf659c5d",
         "233896de79986082f1f479f1f85281cb",
         "38300",
         "ituiutaba",
         "MG"
        ],
        [
         "47",
         "c132855c926907970dcf6f2bf0b33a24",
         "a8ae36a2bb6c2bbc3b5d62ede131c9ef",
         "18740",
         "taquarituba",
         "SP"
        ],
        [
         "48",
         "df85b96ba2ce3e49bde101b1614f52ac",
         "8d46223c91cbeb93e0930ca8bd8ffca2",
         "83085",
         "sao jose dos pinhais",
         "PR"
        ],
        [
         "49",
         "4d27341acd30a36bca39008ee9bb9050",
         "e021e698833bdeb89dfef3acb2e91f37",
         "89254",
         "jaragua do sul",
         "SC"
        ]
       ],
       "shape": {
        "columns": 5,
        "rows": 99441
       }
      },
      "text/html": [
       "<div>\n",
       "<style scoped>\n",
       "    .dataframe tbody tr th:only-of-type {\n",
       "        vertical-align: middle;\n",
       "    }\n",
       "\n",
       "    .dataframe tbody tr th {\n",
       "        vertical-align: top;\n",
       "    }\n",
       "\n",
       "    .dataframe thead th {\n",
       "        text-align: right;\n",
       "    }\n",
       "</style>\n",
       "<table border=\"1\" class=\"dataframe\">\n",
       "  <thead>\n",
       "    <tr style=\"text-align: right;\">\n",
       "      <th></th>\n",
       "      <th>customer_id</th>\n",
       "      <th>customer_unique_id</th>\n",
       "      <th>customer_zip_code_prefix</th>\n",
       "      <th>customer_city</th>\n",
       "      <th>customer_state</th>\n",
       "    </tr>\n",
       "  </thead>\n",
       "  <tbody>\n",
       "    <tr>\n",
       "      <th>0</th>\n",
       "      <td>06b8999e2fba1a1fbc88172c00ba8bc7</td>\n",
       "      <td>861eff4711a542e4b93843c6dd7febb0</td>\n",
       "      <td>14409</td>\n",
       "      <td>franca</td>\n",
       "      <td>SP</td>\n",
       "    </tr>\n",
       "    <tr>\n",
       "      <th>1</th>\n",
       "      <td>18955e83d337fd6b2def6b18a428ac77</td>\n",
       "      <td>290c77bc529b7ac935b93aa66c333dc3</td>\n",
       "      <td>9790</td>\n",
       "      <td>sao bernardo do campo</td>\n",
       "      <td>SP</td>\n",
       "    </tr>\n",
       "    <tr>\n",
       "      <th>2</th>\n",
       "      <td>4e7b3e00288586ebd08712fdd0374a03</td>\n",
       "      <td>060e732b5b29e8181a18229c7b0b2b5e</td>\n",
       "      <td>1151</td>\n",
       "      <td>sao paulo</td>\n",
       "      <td>SP</td>\n",
       "    </tr>\n",
       "    <tr>\n",
       "      <th>3</th>\n",
       "      <td>b2b6027bc5c5109e529d4dc6358b12c3</td>\n",
       "      <td>259dac757896d24d7702b9acbbff3f3c</td>\n",
       "      <td>8775</td>\n",
       "      <td>mogi das cruzes</td>\n",
       "      <td>SP</td>\n",
       "    </tr>\n",
       "    <tr>\n",
       "      <th>4</th>\n",
       "      <td>4f2d8ab171c80ec8364f7c12e35b23ad</td>\n",
       "      <td>345ecd01c38d18a9036ed96c73b8d066</td>\n",
       "      <td>13056</td>\n",
       "      <td>campinas</td>\n",
       "      <td>SP</td>\n",
       "    </tr>\n",
       "    <tr>\n",
       "      <th>...</th>\n",
       "      <td>...</td>\n",
       "      <td>...</td>\n",
       "      <td>...</td>\n",
       "      <td>...</td>\n",
       "      <td>...</td>\n",
       "    </tr>\n",
       "    <tr>\n",
       "      <th>99436</th>\n",
       "      <td>17ddf5dd5d51696bb3d7c6291687be6f</td>\n",
       "      <td>1a29b476fee25c95fbafc67c5ac95cf8</td>\n",
       "      <td>3937</td>\n",
       "      <td>sao paulo</td>\n",
       "      <td>SP</td>\n",
       "    </tr>\n",
       "    <tr>\n",
       "      <th>99437</th>\n",
       "      <td>e7b71a9017aa05c9a7fd292d714858e8</td>\n",
       "      <td>d52a67c98be1cf6a5c84435bd38d095d</td>\n",
       "      <td>6764</td>\n",
       "      <td>taboao da serra</td>\n",
       "      <td>SP</td>\n",
       "    </tr>\n",
       "    <tr>\n",
       "      <th>99438</th>\n",
       "      <td>5e28dfe12db7fb50a4b2f691faecea5e</td>\n",
       "      <td>e9f50caf99f032f0bf3c55141f019d99</td>\n",
       "      <td>60115</td>\n",
       "      <td>fortaleza</td>\n",
       "      <td>CE</td>\n",
       "    </tr>\n",
       "    <tr>\n",
       "      <th>99439</th>\n",
       "      <td>56b18e2166679b8a959d72dd06da27f9</td>\n",
       "      <td>73c2643a0a458b49f58cea58833b192e</td>\n",
       "      <td>92120</td>\n",
       "      <td>canoas</td>\n",
       "      <td>RS</td>\n",
       "    </tr>\n",
       "    <tr>\n",
       "      <th>99440</th>\n",
       "      <td>274fa6071e5e17fe303b9748641082c8</td>\n",
       "      <td>84732c5050c01db9b23e19ba39899398</td>\n",
       "      <td>6703</td>\n",
       "      <td>cotia</td>\n",
       "      <td>SP</td>\n",
       "    </tr>\n",
       "  </tbody>\n",
       "</table>\n",
       "<p>99441 rows × 5 columns</p>\n",
       "</div>"
      ],
      "text/plain": [
       "                            customer_id                customer_unique_id  \\\n",
       "0      06b8999e2fba1a1fbc88172c00ba8bc7  861eff4711a542e4b93843c6dd7febb0   \n",
       "1      18955e83d337fd6b2def6b18a428ac77  290c77bc529b7ac935b93aa66c333dc3   \n",
       "2      4e7b3e00288586ebd08712fdd0374a03  060e732b5b29e8181a18229c7b0b2b5e   \n",
       "3      b2b6027bc5c5109e529d4dc6358b12c3  259dac757896d24d7702b9acbbff3f3c   \n",
       "4      4f2d8ab171c80ec8364f7c12e35b23ad  345ecd01c38d18a9036ed96c73b8d066   \n",
       "...                                 ...                               ...   \n",
       "99436  17ddf5dd5d51696bb3d7c6291687be6f  1a29b476fee25c95fbafc67c5ac95cf8   \n",
       "99437  e7b71a9017aa05c9a7fd292d714858e8  d52a67c98be1cf6a5c84435bd38d095d   \n",
       "99438  5e28dfe12db7fb50a4b2f691faecea5e  e9f50caf99f032f0bf3c55141f019d99   \n",
       "99439  56b18e2166679b8a959d72dd06da27f9  73c2643a0a458b49f58cea58833b192e   \n",
       "99440  274fa6071e5e17fe303b9748641082c8  84732c5050c01db9b23e19ba39899398   \n",
       "\n",
       "       customer_zip_code_prefix          customer_city customer_state  \n",
       "0                         14409                 franca             SP  \n",
       "1                          9790  sao bernardo do campo             SP  \n",
       "2                          1151              sao paulo             SP  \n",
       "3                          8775        mogi das cruzes             SP  \n",
       "4                         13056               campinas             SP  \n",
       "...                         ...                    ...            ...  \n",
       "99436                      3937              sao paulo             SP  \n",
       "99437                      6764        taboao da serra             SP  \n",
       "99438                     60115              fortaleza             CE  \n",
       "99439                     92120                 canoas             RS  \n",
       "99440                      6703                  cotia             SP  \n",
       "\n",
       "[99441 rows x 5 columns]"
      ]
     },
     "execution_count": 7,
     "metadata": {},
     "output_type": "execute_result"
    }
   ],
   "source": [
    "dataframe[\"customers\"]"
   ]
  },
  {
   "cell_type": "code",
   "execution_count": null,
   "metadata": {},
   "outputs": [],
   "source": []
  }
 ],
 "metadata": {
  "kernelspec": {
   "display_name": "venv",
   "language": "python",
   "name": "python3"
  },
  "language_info": {
   "codemirror_mode": {
    "name": "ipython",
    "version": 3
   },
   "file_extension": ".py",
   "mimetype": "text/x-python",
   "name": "python",
   "nbconvert_exporter": "python",
   "pygments_lexer": "ipython3",
   "version": "3.11.9"
  }
 },
 "nbformat": 4,
 "nbformat_minor": 2
}
