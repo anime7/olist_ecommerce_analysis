{
 "cells": [
  {
   "cell_type": "code",
   "execution_count": 1,
   "metadata": {},
   "outputs": [],
   "source": [
    "import pandas as pd\n",
    "from sqlalchemy import inspect\n",
    "from sqlalchemy import text"
   ]
  },
  {
   "cell_type": "code",
   "execution_count": 2,
   "metadata": {},
   "outputs": [],
   "source": [
    "def load_dataframe_to_table(engine,dataframe,table_name ,schema='bronze',if_exists='append'):\n",
    "    try:\n",
    "        dataframe.to_sql(name=table_name,\n",
    "                         con=engine,\n",
    "                         schema=schema,\n",
    "                         if_exists=if_exists,\n",
    "                         index=False,\n",
    "                         chunksize=1000)\n",
    "       \n",
    "    \n",
    "        with engine.connect() as conn:\n",
    "            query=text(f\"SELECT COUNT(*) FROM {schema}.{table_name}\")\n",
    "            result=conn.execute(query)\n",
    "            count=result.scalar()\n",
    "        \n",
    "        print(f\"suceffully loded {count} rows into {schema}.{table_name}\")\n",
    "        return True\n",
    "    except Exception as e:\n",
    "        print(f\"error while loading data into {schema}.{table_name}:{e}\")\n",
    "        return False"
   ]
  },
  {
   "cell_type": "code",
   "execution_count": 3,
   "metadata": {},
   "outputs": [],
   "source": [
    "def load_all_tables(engine,dataframes,schema='bronze'):\n",
    "    \n",
    "    sucessfully_loaded = []\n",
    "    \n",
    "    with engine.connect() as conn:\n",
    "        conn.execute(text(f\"CREATE SCHEMA IF NOT EXISTS {schema}\"))\n",
    "    \n",
    "    for table_name ,df in dataframes.items():\n",
    "        sucess=load_dataframe_to_table(engine,df,table_name,schema)\n",
    "        if sucess:\n",
    "            sucessfully_loaded.append(table_name)\n",
    "    return sucessfully_loaded\n",
    "    "
   ]
  },
  {
   "cell_type": "code",
   "execution_count": null,
   "metadata": {},
   "outputs": [],
   "source": []
  }
 ],
 "metadata": {
  "kernelspec": {
   "display_name": "venv",
   "language": "python",
   "name": "python3"
  },
  "language_info": {
   "codemirror_mode": {
    "name": "ipython",
    "version": 3
   },
   "file_extension": ".py",
   "mimetype": "text/x-python",
   "name": "python",
   "nbconvert_exporter": "python",
   "pygments_lexer": "ipython3",
   "version": "3.11.9"
  }
 },
 "nbformat": 4,
 "nbformat_minor": 2
}
